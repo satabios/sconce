{
 "cells": [
  {
   "cell_type": "markdown",
   "source": [],
   "metadata": {
    "collapsed": false
   }
  },
  {
   "cell_type": "markdown",
   "source": [
    "===============================\\\n",
    "   Compression Pipeline\\\n",
    "==============================="
   ],
   "metadata": {
    "collapsed": false
   }
  },
  {
   "cell_type": "raw",
   "source": [
    "!pip install sconce -q"
   ],
   "metadata": {
    "collapsed": false
   }
  },
  {
   "cell_type": "code",
   "execution_count": 2,
   "metadata": {
    "id": "xEDfNQnMIW9H",
    "ExecuteTime": {
     "end_time": "2023-12-01T07:32:53.170470032Z",
     "start_time": "2023-12-01T07:32:50.766056935Z"
    }
   },
   "outputs": [],
   "source": [
    "from collections import defaultdict, OrderedDict\n",
    "\n",
    "import numpy as np\n",
    "import torch\n",
    "from torch import nn\n",
    "from torch.optim import *\n",
    "from torch.optim.lr_scheduler import *\n",
    "from torch.utils.data import DataLoader\n",
    "from torchvision.datasets import *\n",
    "from torchvision.transforms import *\n",
    "import torch.optim as optim\n",
    "\n",
    "assert torch.cuda.is_available(), \\\n",
    "\"The current runtime does not have CUDA support.\" \\\n",
    "\"Please go to menu bar (Runtime - Change runtime type) and select GPU\""
   ]
  },
  {
   "cell_type": "markdown",
   "source": [
    "Load the Pre-Trained Model Weights"
   ],
   "metadata": {
    "id": "umyrKmgdEHQf"
   }
  },
  {
   "cell_type": "code",
   "source": [
    "from google.colab import drive\n",
    "drive.mount('/content/drive')\n",
    "model_path = \"drive/MyDrive/Efficientml/Efficientml.ai/vgg.cifar.pretrained.pth\""
   ],
   "metadata": {
    "colab": {
     "base_uri": "https://localhost:8080/"
    },
    "id": "YI-g2PwnGf_s",
    "outputId": "1cfcb359-d4fb-4439-ead7-bcb9c9f157d0"
   },
   "execution_count": null,
   "outputs": [
    {
     "output_type": "stream",
     "name": "stdout",
     "text": [
      "Mounted at /content/drive\n"
     ]
    }
   ]
  },
  {
   "cell_type": "code",
   "source": [
    "\n",
    "class VGG(nn.Module):\n",
    "  ARCH = [64, 128, 'M', 256, 256, 'M', 512, 512, 'M', 512, 512, 'M']\n",
    "\n",
    "  def __init__(self) -> None:\n",
    "    super().__init__()\n",
    "\n",
    "    layers = []\n",
    "    counts = defaultdict(int)\n",
    "\n",
    "    def add(name: str, layer: nn.Module) -> None:\n",
    "      layers.append((f\"{name}{counts[name]}\", layer))\n",
    "      counts[name] += 1\n",
    "\n",
    "    in_channels = 3\n",
    "    for x in self.ARCH:\n",
    "      if x != 'M':\n",
    "        # conv-bn-relu\n",
    "        add(\"conv\", nn.Conv2d(in_channels, x, 3, padding=1, bias=False))\n",
    "        add(\"bn\", nn.BatchNorm2d(x))\n",
    "        add(\"relu\", nn.ReLU(True))\n",
    "        in_channels = x\n",
    "      else:\n",
    "        # maxpool\n",
    "        add(\"pool\", nn.MaxPool2d(2))\n",
    "\n",
    "    self.backbone = nn.Sequential(OrderedDict(layers))\n",
    "    self.classifier = nn.Linear(512, 10)\n",
    "\n",
    "  def forward(self, x: torch.Tensor) -> torch.Tensor:\n",
    "    # backbone: [N, 3, 32, 32] => [N, 512, 2, 2]\n",
    "    x = self.backbone(x)\n",
    "\n",
    "    # avgpool: [N, 512, 2, 2] => [N, 512]\n",
    "    x = x.mean([2, 3])\n",
    "\n",
    "    # classifier: [N, 512] => [N, 10]\n",
    "    x = self.classifier(x)\n",
    "    return x\n",
    "\n",
    "\n",
    "#load the pretrained model\n",
    "\n",
    "model = VGG().cuda()\n",
    "checkpoint = torch.load(model_path)\n",
    "model.load_state_dict(checkpoint['state_dict'])"
   ],
   "metadata": {
    "colab": {
     "base_uri": "https://localhost:8080/"
    },
    "id": "e8_S-wtTEGKu",
    "outputId": "782f7d3a-e0f2-40d8-c492-668dd7eb8867",
    "ExecuteTime": {
     "end_time": "2023-12-01T07:32:56.646268058Z",
     "start_time": "2023-12-01T07:32:55.606697470Z"
    }
   },
   "execution_count": 3,
   "outputs": [
    {
     "data": {
      "text/plain": "<All keys matched successfully>"
     },
     "execution_count": 3,
     "metadata": {},
     "output_type": "execute_result"
    }
   ]
  },
  {
   "cell_type": "markdown",
   "source": [
    "Setup the Dataset"
   ],
   "metadata": {
    "id": "o020nzh1Ea3s"
   }
  },
  {
   "cell_type": "code",
   "execution_count": 6,
   "metadata": {
    "colab": {
     "base_uri": "https://localhost:8080/"
    },
    "id": "nozAsRWpNfa8",
    "outputId": "7229d497-5c02-4ced-cfdf-055e254ecd2d",
    "ExecuteTime": {
     "end_time": "2023-12-01T07:33:50.919090166Z",
     "start_time": "2023-12-01T07:33:37.768089911Z"
    }
   },
   "outputs": [
    {
     "name": "stdout",
     "output_type": "stream",
     "text": [
      "Downloading https://www.cs.toronto.edu/~kriz/cifar-10-python.tar.gz to data/cifar10/cifar-10-python.tar.gz\n"
     ]
    },
    {
     "name": "stderr",
     "output_type": "stream",
     "text": [
      "100%|██████████| 170498071/170498071 [00:10<00:00, 16502419.73it/s]\n"
     ]
    },
    {
     "name": "stdout",
     "output_type": "stream",
     "text": [
      "Extracting data/cifar10/cifar-10-python.tar.gz to data/cifar10\n",
      "Files already downloaded and verified\n"
     ]
    }
   ],
   "source": [
    "image_size = 32\n",
    "transforms = {\n",
    "    \"train\": transforms.Compose([\n",
    "        RandomCrop(image_size, padding=4),\n",
    "        RandomHorizontalFlip(),\n",
    "        ToTensor(),\n",
    "    ]),\n",
    "    \"test\": ToTensor(),\n",
    "}\n",
    "dataset = {}\n",
    "for split in [\"train\", \"test\"]:\n",
    "\n",
    "    dataset[split] = CIFAR10(\n",
    "    root=\"data/cifar10\",\n",
    "    train=(split == \"train\"),\n",
    "    download=True,\n",
    "    transform=transforms[split],\n",
    "    )\n",
    "\n",
    "dataloader = {}\n",
    "for split in ['train', 'test']:\n",
    "  dataloader[split] = DataLoader(\n",
    "    dataset[split],\n",
    "    batch_size=512,\n",
    "    shuffle=(split == 'train'),\n",
    "    num_workers=0,\n",
    "    pin_memory=True,\n",
    "  )\n",
    "\n",
    "\n"
   ]
  },
  {
   "cell_type": "markdown",
   "source": [
    "sconce Configurations"
   ],
   "metadata": {
    "id": "ByJy8c5NCxD3"
   }
  },
  {
   "cell_type": "code",
   "execution_count": null,
   "metadata": {
    "id": "YuCi_bPhNrMn"
   },
   "outputs": [],
   "source": [
    "from sconce import sconce\n",
    "\n",
    "\n",
    "sconces = sconce()\n",
    "sconces.model= model\n",
    "sconces.criterion = nn.CrossEntropyLoss() # Loss\n",
    "sconces.optimizer= optim.Adam(sconces.model.parameters(), lr=1e-4)\n",
    "sconces.scheduler = optim.lr_scheduler.CosineAnnealingLR(sconces.optimizer, T_max=200)\n",
    "sconces.dataloader = dataloader\n",
    "sconces.epochs = 1 #Number of time we iterate over the data\n",
    "sconces.device = torch.device(\"cuda\" if torch.cuda.is_available() else \"cpu\")\n",
    "sconces.experiment_name = \"vgg-gmp\"\n",
    "sconces.prune_mode = \"GMP\" # Supports Automated Pruning Ratio Detection\n"
   ]
  },
  {
   "cell_type": "markdown",
   "source": [
    "Train and Validated the Model on the given dataset"
   ],
   "metadata": {
    "id": "pTSAWI8REuFZ"
   }
  },
  {
   "cell_type": "code",
   "source": [
    "# Train the model\n",
    "sconces.train()\n",
    "# Evaludate the model\n",
    "sconces.evaluate()"
   ],
   "metadata": {
    "colab": {
     "base_uri": "https://localhost:8080/"
    },
    "id": "iYNkCi7tC6Cl",
    "outputId": "34599602-0add-4ceb-9fdc-f265acda8b05"
   },
   "execution_count": null,
   "outputs": [
    {
     "output_type": "stream",
     "name": "stderr",
     "text": []
    },
    {
     "output_type": "stream",
     "name": "stdout",
     "text": [
      "Epoch:1 Train Loss: 0.00000 Validation Accuracy: 92.92585\n"
     ]
    },
    {
     "output_type": "stream",
     "name": "stderr",
     "text": []
    },
    {
     "output_type": "execute_result",
     "data": {
      "text/plain": [
       "92.92585170340682"
      ]
     },
     "metadata": {},
     "execution_count": 7
    }
   ]
  },
  {
   "cell_type": "markdown",
   "source": [
    "Magic Happens here: Compress the model(GMP pruning is set as the prune mode[sconces.prune_mode] above)"
   ],
   "metadata": {
    "id": "RcOCi-1eFub4"
   }
  },
  {
   "cell_type": "markdown",
   "source": [
    "# Compress the model granuarly\n",
    "sconces.compress()"
   ],
   "metadata": {
    "collapsed": false
   }
  },
  {
   "cell_type": "markdown",
   "source": [
    "**Channel-Wise Pruning**"
   ],
   "metadata": {
    "id": "YA_wSOZe3whu"
   }
  },
  {
   "cell_type": "code",
   "source": [
    "sconces = sconce()\n",
    "sconces.model= model\n",
    "sconces.criterion = nn.CrossEntropyLoss() # Loss\n",
    "sconces.optimizer= optim.Adam(sconces.model.parameters(), lr=1e-4)\n",
    "sconces.scheduler = optim.lr_scheduler.CosineAnnealingLR(sconces.optimizer, T_max=200)\n",
    "sconces.dataloader = dataloader\n",
    "sconces.epochs = 1 #Number of time we iterate over the data\n",
    "sconces.device = torch.device(\"cuda\" if torch.cuda.is_available() else \"cpu\")\n",
    "sconces.experiment_name = \"vgg-cwp\"\n",
    "sconces.prune_mode = \"CWP\" # Supports Automated Pruning Ratio Detection\n"
   ],
   "metadata": {
    "id": "vtPnGXwr4wka"
   },
   "execution_count": null,
   "outputs": []
  },
  {
   "cell_type": "code",
   "source": [
    "# Compress the model Channel-Wise\n",
    "sconces.compress()"
   ],
   "metadata": {
    "id": "KT-ZQHTA0L5C",
    "colab": {
     "base_uri": "https://localhost:8080/"
    },
    "outputId": "9f1a4c16-90ba-4bb8-ea61-bb50f94de6a1"
   },
   "execution_count": null,
   "outputs": [
    {
     "output_type": "stream",
     "name": "stdout",
     "text": [
      "\n",
      "Original Dense Model Size Model=21.94 MiB\n"
     ]
    },
    {
     "output_type": "stream",
     "name": "stderr",
     "text": []
    },
    {
     "output_type": "stream",
     "name": "stdout",
     "text": [
      "Original Model Validation Accuracy: 92.82565130260521 %\n"
     ]
    },
    {
     "output_type": "stream",
     "name": "stderr",
     "text": []
    },
    {
     "output_type": "stream",
     "name": "stdout",
     "text": [
      "\n",
      " Channel-Wise Pruning\n",
      "Sparsity for each Layer: {'backbone.conv0.weight': 0.1, 'backbone.conv1.weight': 0.1, 'backbone.conv2.weight': 0.15000000000000002, 'backbone.conv3.weight': 0.15000000000000002, 'backbone.conv4.weight': 0.25000000000000006, 'backbone.conv5.weight': 0.20000000000000004, 'backbone.conv6.weight': 0.40000000000000013}\n"
     ]
    },
    {
     "output_type": "stream",
     "name": "stderr",
     "text": []
    },
    {
     "output_type": "stream",
     "name": "stdout",
     "text": [
      "\n",
      "Pruned Model has size=12.81 MiB(non-zeros) = 58.41% of Original model size\n"
     ]
    },
    {
     "output_type": "stream",
     "name": "stderr",
     "text": []
    },
    {
     "output_type": "stream",
     "name": "stdout",
     "text": [
      "Epoch:1 Train Loss: 0.00000 Validation Accuracy: 89.83968\n"
     ]
    },
    {
     "output_type": "stream",
     "name": "stderr",
     "text": []
    },
    {
     "output_type": "stream",
     "name": "stdout",
     "text": [
      "Epoch:2 Train Loss: 0.00000 Validation Accuracy: 89.97996\n"
     ]
    },
    {
     "output_type": "stream",
     "name": "stderr",
     "text": []
    },
    {
     "output_type": "stream",
     "name": "stdout",
     "text": [
      "Epoch:3 Train Loss: 0.00000 Validation Accuracy: 90.21042\n"
     ]
    },
    {
     "output_type": "stream",
     "name": "stderr",
     "text": []
    },
    {
     "output_type": "stream",
     "name": "stdout",
     "text": [
      "Epoch:4 Train Loss: 0.00000 Validation Accuracy: 90.39078\n"
     ]
    },
    {
     "output_type": "stream",
     "name": "stderr",
     "text": []
    },
    {
     "output_type": "stream",
     "name": "stdout",
     "text": [
      "Epoch:5 Train Loss: 0.00000 Validation Accuracy: 90.59118\n"
     ]
    },
    {
     "output_type": "stream",
     "name": "stderr",
     "text": []
    },
    {
     "output_type": "stream",
     "name": "stdout",
     "text": [
      "\n",
      " ................. Comparison Table  .................\n",
      "                Original        Pruned          Reduction Ratio\n",
      "Latency (ms)    3.87            2.12            1.8            \n",
      "MACs (M)        606             410             1.5            \n",
      "Param (M)       5.75            5.44            1.1            \n",
      "Accuracies (%)  92.826          90.591          -2.234         \n",
      "Fine-Tuned Sparse model has size=20.76 MiB = 94.62% of Original model size\n",
      "Fine-Tuned Pruned Model Validation Accuracy: 90.59118236472946\n"
     ]
    }
   ]
  },
  {
   "cell_type": "markdown",
   "source": [
    "\n",
    "\n",
    "\n",
    "<h1><center>Benchmarking on RTX4090</center></h1>\n",
    "\n",
    "\n",
    "\n",
    "*   **Dense Model** has a size of *35.20MiB* and accuracy of *92.89%*.\n",
    "*   **Post Pruning(GMP) Pruned Model** size *21.94MiB* with accuracy of *92.86%*.\n",
    "*   **Post Pruning(CMP) Pruned Model** size *20.76MiB* with accuracy of *90.59%*.\n",
    "\n",
    "| Metric             | Original | CWP Pruned | GMP Pruned | CWP Reduction Ratio | GMP Reduction Ratio |\n",
    "|--------------------|----------|------------|------------|----------------------|----------------------|\n",
    "| **Latency (ms) [↓]**  | 5.90     | 4.20       | 5.70       | 1.4                  | 1                    |\n",
    "| **MACs (M)   [↓]**   | 606      | 406        | 606        | 1.5                  | 1                    |\n",
    "| **Param (M)[Non-Zeros] [↓]** | 9.23     | 5.36       | 4.42       | 1.7                  | 2.1                  |\n",
    "| **Accuracies (%) [↑]** | 93.136   | 90.391     | 92.946     | -2.745               | -0.19                |\n",
    "\n",
    "\n",
    "The catch is that GMP stores the zeros in the weight, which contributes to the higher values of model size."
   ],
   "metadata": {
    "id": "2quYDMZiIlwX"
   }
  },
  {
   "cell_type": "markdown",
   "source": [
    "**Venum Pruning a better version of Wanda Pruning**"
   ],
   "metadata": {
    "collapsed": false
   }
  },
  {
   "cell_type": "code",
   "execution_count": 7,
   "outputs": [
    {
     "name": "stdout",
     "output_type": "stream",
     "text": [
      "\n",
      "Original Dense Model Size Model=35.20 MiB\n"
     ]
    },
    {
     "name": "stderr",
     "output_type": "stream",
     "text": [
      "                                                     \r"
     ]
    },
    {
     "name": "stdout",
     "output_type": "stream",
     "text": [
      "Original Model Validation Accuracy: 93.13627254509018 %\n",
      "\n",
      " Venum Pruning\n"
     ]
    },
    {
     "name": "stderr",
     "output_type": "stream",
     "text": [
      "                                                    \r"
     ]
    },
    {
     "name": "stdout",
     "output_type": "stream",
     "text": [
      "Sensitivity Scan Time(secs): 114.05389285087585\n",
      "Sparsity for each Layer: {'backbone.conv0.weight': 0.30000000000000004, 'backbone.conv1.weight': 0.45000000000000007, 'backbone.conv2.weight': 0.45000000000000007, 'backbone.conv3.weight': 0.5500000000000002, 'backbone.conv4.weight': 0.6000000000000002, 'backbone.conv5.weight': 0.7000000000000002, 'backbone.conv6.weight': 0.7500000000000002, 'backbone.conv7.weight': 0.8500000000000002, 'classifier.weight': 0.9500000000000003}\n",
      "Pruning Time Consumed (secs): 1701416101.321775\n",
      "Total Pruning Time Consumed (mins): 2.8907041509946185\n"
     ]
    },
    {
     "name": "stderr",
     "output_type": "stream",
     "text": [
      "                                                     \r"
     ]
    },
    {
     "name": "stdout",
     "output_type": "stream",
     "text": [
      "\n",
      "Pruned Model has size=9.94 MiB(non-zeros) = 28.22% of Original model size\n"
     ]
    },
    {
     "name": "stderr",
     "output_type": "stream",
     "text": [
      "                                                     \r"
     ]
    },
    {
     "name": "stdout",
     "output_type": "stream",
     "text": [
      "\n",
      " ................. Comparison Table  .................\n",
      "                Original        Pruned          Reduction Ratio\n",
      "Latency (ms)    5.9             5.8             1.0            \n",
      "MACs (M)        606             606             1.0            \n",
      "Param (M)       9.23            2.6             3.5            \n",
      "Accuracies (%)  93.136          87.735          -5.401         \n",
      "Fine-Tuned Sparse model has size=9.94 MiB = 28.22% of Original model size\n",
      "Fine-Tuned Pruned Model Validation Accuracy: 87.73547094188376\n"
     ]
    }
   ],
   "source": [
    "from sconce import sconce\n",
    "\n",
    "sconces = sconce()\n",
    "sconces.model = model\n",
    "sconces.criterion = nn.CrossEntropyLoss()  # Loss\n",
    "sconces.optimizer = optim.Adam(sconces.model.parameters(), lr=1e-4)\n",
    "sconces.scheduler = optim.lr_scheduler.CosineAnnealingLR(sconces.optimizer, T_max=200)\n",
    "sconces.dataloader = dataloader\n",
    "sconces.device = torch.device(\"cuda\" if torch.cuda.is_available() else \"cpu\")\n",
    "sconces.experiment_name = \"vgg-venum\"\n",
    "sconces.prune_mode = \"venum\"  # Supports Automated Pruning Ratio Detection\n",
    "sconces.compress()"
   ],
   "metadata": {
    "collapsed": false,
    "ExecuteTime": {
     "end_time": "2023-12-01T07:36:59.433154884Z",
     "start_time": "2023-12-01T07:33:58.232251482Z"
    }
   }
  },
  {
   "cell_type": "markdown",
   "source": [
    "Spiking Neural Network Compression\n"
   ],
   "metadata": {
    "id": "oJjAdrRK0aRD"
   }
  },
  {
   "cell_type": "code",
   "source": [
    "!pip install snntorch -q"
   ],
   "metadata": {
    "id": "SPatw1ex08kR"
   },
   "execution_count": null,
   "outputs": []
  },
  {
   "cell_type": "code",
   "source": [
    "# Import snntorch libraries\n",
    "import snntorch as snn\n",
    "from snntorch import surrogate\n",
    "from snntorch import backprop\n",
    "from snntorch import functional as SF\n",
    "from snntorch import utils\n",
    "from snntorch import spikeplot as splt\n",
    "from torch import optim\n",
    "\n",
    "import torch\n",
    "import torch.nn as nn\n",
    "from torch.utils.data import DataLoader\n",
    "from torchvision import datasets, transforms\n",
    "import torch.nn.functional as F\n",
    "\n",
    "import matplotlib.pyplot as plt\n",
    "import numpy as np\n",
    "import itertools\n",
    "\n"
   ],
   "metadata": {
    "id": "V9qFLeGl0y24",
    "colab": {
     "base_uri": "https://localhost:8080/"
    },
    "outputId": "ae51c5c9-a5a7-416f-ac9c-01e30734e19d"
   },
   "execution_count": null,
   "outputs": [
    {
     "output_type": "stream",
     "name": "stderr",
     "text": [
      "<ipython-input-3-b898cb6c07c2>:4: DeprecationWarning: The module snntorch.backprop will be deprecated in  a future release. Writing out your own training loop will lead to substantially faster performance.\n",
      "  from snntorch import backprop\n"
     ]
    }
   ]
  },
  {
   "cell_type": "code",
   "source": [
    "\n",
    "# Event Drive Data\n",
    "\n",
    "# dataloader arguments\n",
    "batch_size = 128\n",
    "data_path = \"./data/mnist\"\n",
    "\n",
    "dtype = torch.float\n",
    "device = torch.device(\"cuda\") if torch.cuda.is_available() else torch.device(\"cpu\")\n",
    "\n",
    "# Define a transform\n",
    "transform = transforms.Compose(\n",
    "    [\n",
    "        transforms.Resize((28, 28)),\n",
    "        transforms.Grayscale(),\n",
    "        transforms.ToTensor(),\n",
    "        transforms.Normalize((0,), (1,)),\n",
    "    ]\n",
    ")\n",
    "\n",
    "mnist_train = datasets.MNIST(data_path, train=True, download=True, transform=transform)\n",
    "mnist_test = datasets.MNIST(data_path, train=False, download=True, transform=transform)\n",
    "\n",
    "# Create DataLoaders\n",
    "train_loader = DataLoader(\n",
    "    mnist_train, batch_size=batch_size, shuffle=True, drop_last=True\n",
    ")\n",
    "test_loader = DataLoader(\n",
    "    mnist_test, batch_size=batch_size, shuffle=True, drop_last=True\n",
    ")\n"
   ],
   "metadata": {
    "id": "zk0TCGvRKOWh"
   },
   "execution_count": null,
   "outputs": []
  },
  {
   "cell_type": "code",
   "source": [
    "from sconce import sconce\n",
    "sconces = sconce()\n",
    "# Set you Dataloader\n",
    "dataloader = {}\n",
    "dataloader[\"train\"] = train_loader\n",
    "dataloader[\"test\"] = test_loader\n",
    "sconces.dataloader = dataloader"
   ],
   "metadata": {
    "id": "9pj-ZzMQU9_Q"
   },
   "execution_count": null,
   "outputs": []
  },
  {
   "cell_type": "code",
   "source": [
    "#Enable snn in sconce\n",
    "sconces.snn = True\n",
    "\n",
    "# Load your snn Model\n",
    "spike_grad = surrogate.fast_sigmoid(slope=25)\n",
    "beta = 0.5\n",
    "snn_model = nn.Sequential(\n",
    "    nn.Conv2d(1, 12, 5),\n",
    "    nn.MaxPool2d(2),\n",
    "    snn.Leaky(beta=beta, spike_grad=spike_grad, init_hidden=True),\n",
    "    nn.Conv2d(12, 64, 5),\n",
    "    nn.MaxPool2d(2),\n",
    "    snn.Leaky(beta=beta, spike_grad=spike_grad, init_hidden=True),\n",
    "    nn.Flatten(),\n",
    "    nn.Linear(64 * 4 * 4, 10),\n",
    "    snn.Leaky(beta=beta, spike_grad=spike_grad, init_hidden=True, output=True),\n",
    ").to('cuda')\n",
    "\n",
    "\n",
    "#Load the pretrained weights\n",
    "snn_pretrained_model_path = \"drive/MyDrive/Efficientml/Efficientml.ai/snn_model.pth\"\n",
    "snn_model.load_state_dict(torch.load(snn_pretrained_model_path))  # Model Definition\n",
    "sconces.model = snn_model"
   ],
   "metadata": {
    "id": "LzEHUCSx0hN6"
   },
   "execution_count": null,
   "outputs": []
  },
  {
   "cell_type": "code",
   "source": [
    "\n",
    "sconces.optimizer = optim.Adam(sconces.model.parameters(), lr=1e-4)\n",
    "sconces.scheduler = optim.lr_scheduler.CosineAnnealingLR(sconces.optimizer, T_max=200)\n",
    "\n",
    "sconces.criterion = SF.ce_rate_loss()\n",
    "\n",
    "sconces.epochs = 10  # Number of time we iterate over the data\n",
    "sconces.device = torch.device(\"cuda\" if torch.cuda.is_available() else \"cpu\")\n",
    "sconces.experiment_name = \"snn-gmp\"  # Define your experiment name here\n",
    "sconces.prune_mode = \"GMP\"\n",
    "sconces.num_finetune_epochs = 1\n"
   ],
   "metadata": {
    "id": "qZLTwjV0VdJc"
   },
   "execution_count": null,
   "outputs": []
  },
  {
   "cell_type": "code",
   "source": [
    "sconces.compress()"
   ],
   "metadata": {
    "id": "K6kWCtSk0kVq",
    "colab": {
     "base_uri": "https://localhost:8080/"
    },
    "outputId": "5db1de8c-303d-416c-ee23-4463bc3d7f80"
   },
   "execution_count": null,
   "outputs": [
    {
     "output_type": "stream",
     "name": "stdout",
     "text": [
      "\n",
      "Original Dense Model Size Model=0.11 MiB\n"
     ]
    },
    {
     "output_type": "stream",
     "name": "stderr",
     "text": []
    },
    {
     "output_type": "stream",
     "name": "stdout",
     "text": [
      "Original Model Validation Accuracy: 97.11538461538461 %\n",
      "Granular-Magnitude Pruning\n"
     ]
    },
    {
     "output_type": "stream",
     "name": "stderr",
     "text": []
    },
    {
     "output_type": "stream",
     "name": "stdout",
     "text": [
      "Sparsity for each Layer: {'0.weight': 0.6500000000000001, '3.weight': 0.5000000000000001, '7.weight': 0.7000000000000002}\n"
     ]
    },
    {
     "output_type": "stream",
     "name": "stderr",
     "text": []
    },
    {
     "output_type": "stream",
     "name": "stdout",
     "text": [
      "\n",
      "Pruned Model has size=0.05 MiB(non-zeros) = 43.13% of Original model size\n"
     ]
    },
    {
     "output_type": "stream",
     "name": "stderr",
     "text": []
    },
    {
     "output_type": "stream",
     "name": "stdout",
     "text": [
      "Epoch:1 Train Loss: 0.00000 Validation Accuracy: 95.97356\n"
     ]
    },
    {
     "output_type": "stream",
     "name": "stderr",
     "text": []
    },
    {
     "output_type": "stream",
     "name": "stdout",
     "text": [
      "\n",
      " ................. Comparison Table  .................\n",
      "                Original        Pruned          Reduction Ratio\n",
      "Latency (ms)    2.09            1.43            1.5            \n",
      "MACs (M)        160             160             1.0            \n",
      "Param (M)       0.01            0.01            1.0            \n",
      "Accuracies (%)  97.115          95.974          -1.142         \n",
      "Fine-Tuned Sparse model has size=0.05 MiB = 43.13% of Original model size\n",
      "Fine-Tuned Pruned Model Validation Accuracy: 95.9735576923077\n"
     ]
    },
    {
     "output_type": "stream",
     "name": "stderr",
     "text": [
      "/usr/local/lib/python3.10/dist-packages/torchprofile/profile.py:22: UserWarning: No handlers found: \"prim::pythonop\". Skipped.\n",
      "  warnings.warn('No handlers found: \"{}\". Skipped.'.format(\n",
      "/usr/local/lib/python3.10/dist-packages/torchprofile/profile.py:22: UserWarning: No handlers found: \"prim::pythonop\". Skipped.\n",
      "  warnings.warn('No handlers found: \"{}\". Skipped.'.format(\n"
     ]
    }
   ]
  }
 ],
 "metadata": {
  "accelerator": "GPU",
  "colab": {
   "machine_shape": "hm",
   "provenance": []
  },
  "kernelspec": {
   "name": "python3",
   "language": "python",
   "display_name": "Python 3 (ipykernel)"
  },
  "language_info": {
   "codemirror_mode": {
    "name": "ipython",
    "version": 3
   },
   "file_extension": ".py",
   "mimetype": "text/x-python",
   "name": "python",
   "nbconvert_exporter": "python",
   "pygments_lexer": "ipython3",
   "version": "3.11.4"
  }
 },
 "nbformat": 4,
 "nbformat_minor": 0
}
