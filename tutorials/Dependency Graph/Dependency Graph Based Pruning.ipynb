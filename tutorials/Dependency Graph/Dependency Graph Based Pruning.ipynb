{
 "cells": [
  {
   "cell_type": "code",
   "execution_count": 1,
   "id": "initial_id",
   "metadata": {
    "collapsed": true,
    "jupyter": {
     "is_executing": true
    }
   },
   "outputs": [],
   "source": [
    "from pattern_matcher import fuse\n",
    "import torch\n",
    "import torch.fx as fx\n",
    "from utils import channel_prune, NN, dependency_grapher\n",
    "import torch.nn as nn\n",
    "import  timm\n",
    "\n",
    "prune_ratio = 0.5 # Prune 50% of the channels"
   ]
  },
  {
   "cell_type": "code",
   "execution_count": 2,
   "id": "222b7a29f16e4480",
   "metadata": {},
   "outputs": [],
   "source": [
    "model = NN()\n",
    "_ = model(torch.randn(1, 3, 64, 64))\n",
    "model = fx.symbolic_trace(model)\n",
    "model = fuse(model.eval())\n"
   ]
  },
  {
   "cell_type": "markdown",
   "id": "16ffd108b42726b8",
   "metadata": {},
   "source": [
    "**Build Dependency Graph for the Model**"
   ]
  },
  {
   "cell_type": "code",
   "execution_count": 3,
   "id": "1a2e9b32c347cb24",
   "metadata": {},
   "outputs": [
    {
     "name": "stdout",
     "output_type": "stream",
     "text": [
      "Model Dependency Graph\n",
      "Dependency Graph for ('conv1',) -> ('conv2',)\n",
      "Dependency Layers for [Conv2d(3, 64, kernel_size=(3, 3), stride=(1, 1), padding=(1, 1))] -> [Conv2d(64, 128, kernel_size=(3, 3), stride=(1, 1), padding=(1, 1))]\n",
      "Dependency Graph for ('conv2',) -> ('conv3',)\n",
      "Dependency Layers for [Conv2d(64, 128, kernel_size=(3, 3), stride=(1, 1), padding=(1, 1))] -> [Conv2d(128, 256, kernel_size=(3, 3), stride=(1, 1), padding=(1, 1))]\n",
      "Dependency Graph for ('conv3',) -> ('conv4', 'conv5')\n",
      "Dependency Layers for [Conv2d(128, 256, kernel_size=(3, 3), stride=(1, 1), padding=(1, 1))] -> [Conv2d(256, 512, kernel_size=(5, 5), stride=(1, 1), padding=(2, 2)), Conv2d(256, 512, kernel_size=(7, 7), stride=(1, 1), padding=(3, 3))]\n",
      "Dependency Graph for ('conv4',) -> ('conv6',)\n",
      "Dependency Layers for [Conv2d(256, 512, kernel_size=(5, 5), stride=(1, 1), padding=(2, 2))] -> [Conv2d(512, 512, kernel_size=(3, 3), stride=(1, 1), padding=(1, 1))]\n",
      "Dependency Graph for ('conv5',) -> ('conv7',)\n",
      "Dependency Layers for [Conv2d(256, 512, kernel_size=(7, 7), stride=(1, 1), padding=(3, 3))] -> [Conv2d(512, 512, kernel_size=(3, 3), stride=(1, 1), padding=(1, 1))]\n",
      "Dependency Graph for ('conv6',) -> ('conv8',)\n",
      "Dependency Layers for [Conv2d(512, 512, kernel_size=(3, 3), stride=(1, 1), padding=(1, 1))] -> [Conv2d(512, 128, kernel_size=(1, 1), stride=(1, 1))]\n",
      "Dependency Graph for ('conv7',) -> ('conv9',)\n",
      "Dependency Layers for [Conv2d(512, 512, kernel_size=(3, 3), stride=(1, 1), padding=(1, 1))] -> [Conv2d(512, 128, kernel_size=(1, 1), stride=(1, 1))]\n",
      "Dependency Graph for ('conv8', 'conv9') -> ('conv10',)\n",
      "Dependency Layers for [Conv2d(512, 128, kernel_size=(1, 1), stride=(1, 1)), Conv2d(512, 128, kernel_size=(1, 1), stride=(1, 1))] -> [Conv2d(256, 512, kernel_size=(6, 6), stride=(1, 1), padding=(2, 2))]\n",
      "Dependency Graph for ('conv10',) -> ('conv11',)\n",
      "Dependency Layers for [Conv2d(256, 512, kernel_size=(6, 6), stride=(1, 1), padding=(2, 2))] -> [Conv2d(512, 1024, kernel_size=(3, 3), stride=(1, 1), padding=(1, 1))]\n"
     ]
    }
   ],
   "source": [
    "dependency_graph = dependency_grapher(model)\n",
    "print(\"Model Dependency Graph\")\n",
    "for prev, next in dependency_graph.items():\n",
    "    print(f\"Dependency Graph for {prev} -> {next}\")\n",
    "    print(f\"Dependency Layers for {[model.get_submodule(pre) for pre in prev]} -> {[model.get_submodule(pre) for pre in next]}\")"
   ]
  },
  {
   "cell_type": "markdown",
   "id": "e10c5c94",
   "metadata": {},
   "source": [
    "**Prune the Model**"
   ]
  },
  {
   "cell_type": "code",
   "execution_count": 4,
   "id": "47fa3b11d39f6a24",
   "metadata": {},
   "outputs": [],
   "source": [
    "pruned_model = channel_prune(model, prune_ratio)\n",
    "del model\n",
    "\n",
    "_ = pruned_model(torch.randn(1, 3, 32, 32))\n"
   ]
  },
  {
   "cell_type": "code",
   "execution_count": 5,
   "id": "b0c1f1a1",
   "metadata": {},
   "outputs": [
    {
     "data": {
      "text/plain": [
       "GraphModule(\n",
       "  (conv1): Conv2d(3, 32, kernel_size=(3, 3), stride=(1, 1), padding=(1, 1))\n",
       "  (relu): ReLU()\n",
       "  (conv2): Conv2d(32, 64, kernel_size=(3, 3), stride=(1, 1), padding=(1, 1))\n",
       "  (conv3): Conv2d(64, 128, kernel_size=(3, 3), stride=(1, 1), padding=(1, 1))\n",
       "  (conv4): Conv2d(128, 256, kernel_size=(5, 5), stride=(1, 1), padding=(2, 2))\n",
       "  (conv5): Conv2d(128, 256, kernel_size=(7, 7), stride=(1, 1), padding=(3, 3))\n",
       "  (conv6): Conv2d(256, 256, kernel_size=(3, 3), stride=(1, 1), padding=(1, 1))\n",
       "  (conv7): Conv2d(256, 256, kernel_size=(3, 3), stride=(1, 1), padding=(1, 1))\n",
       "  (conv8): Conv2d(256, 64, kernel_size=(1, 1), stride=(1, 1))\n",
       "  (conv9): Conv2d(256, 64, kernel_size=(1, 1), stride=(1, 1))\n",
       "  (conv10): Conv2d(64, 256, kernel_size=(6, 6), stride=(1, 1), padding=(2, 2))\n",
       "  (conv11): Conv2d(256, 1024, kernel_size=(3, 3), stride=(1, 1), padding=(1, 1))\n",
       ")"
      ]
     },
     "execution_count": 5,
     "metadata": {},
     "output_type": "execute_result"
    }
   ],
   "source": [
    "pruned_model"
   ]
  }
 ],
 "metadata": {
  "kernelspec": {
   "display_name": "base",
   "language": "python",
   "name": "python3"
  },
  "language_info": {
   "codemirror_mode": {
    "name": "ipython",
    "version": 3
   },
   "file_extension": ".py",
   "mimetype": "text/x-python",
   "name": "python",
   "nbconvert_exporter": "python",
   "pygments_lexer": "ipython3",
   "version": "3.12.2"
  }
 },
 "nbformat": 4,
 "nbformat_minor": 5
}
