{
  "cells": [
    {
      "cell_type": "code",
      "source": [
        "!pip install sconce -q"
      ],
      "metadata": {
        "colab": {
          "base_uri": "https://localhost:8080/"
        },
        "id": "0O-hXCvQ1CyR",
        "outputId": "0c2ad517-c194-4213-afe0-3eeabaa95b4d"
      },
      "execution_count": 1,
      "outputs": [
        {
          "output_type": "stream",
          "name": "stdout",
          "text": [
            "\u001b[?25l     \u001b[90m━━━━━━━━━━━━━━━━━━━━━━━━━━━━━━━━━━━━━━━━\u001b[0m \u001b[32m0.0/153.0 kB\u001b[0m \u001b[31m?\u001b[0m eta \u001b[36m-:--:--\u001b[0m\r\u001b[2K     \u001b[90m━━━━━━━━━━━━━━━━━━━━━━━━━━━━━━━━━━━━━━━━\u001b[0m \u001b[32m153.0/153.0 kB\u001b[0m \u001b[31m4.7 MB/s\u001b[0m eta \u001b[36m0:00:00\u001b[0m\n",
            "\u001b[?25h  Installing build dependencies ... \u001b[?25l\u001b[?25hdone\n",
            "  Getting requirements to build wheel ... \u001b[?25l\u001b[?25hdone\n",
            "  Installing backend dependencies ... \u001b[?25l\u001b[?25hdone\n",
            "  Preparing metadata (pyproject.toml) ... \u001b[?25l\u001b[?25hdone\n",
            "\u001b[2K     \u001b[90m━━━━━━━━━━━━━━━━━━━━━━━━━━━━━━━━━━━━━━━━\u001b[0m \u001b[32m11.6/11.6 MB\u001b[0m \u001b[31m37.2 MB/s\u001b[0m eta \u001b[36m0:00:00\u001b[0m\n",
            "\u001b[2K     \u001b[90m━━━━━━━━━━━━━━━━━━━━━━━━━━━━━━━━━━━━━━━━\u001b[0m \u001b[32m18.2/18.2 MB\u001b[0m \u001b[31m83.4 MB/s\u001b[0m eta \u001b[36m0:00:00\u001b[0m\n",
            "\u001b[2K     \u001b[90m━━━━━━━━━━━━━━━━━━━━━━━━━━━━━━━━━━━━━━━━\u001b[0m \u001b[32m3.6/3.6 MB\u001b[0m \u001b[31m79.5 MB/s\u001b[0m eta \u001b[36m0:00:00\u001b[0m\n",
            "\u001b[2K     \u001b[90m━━━━━━━━━━━━━━━━━━━━━━━━━━━━━━━━━━━━━━━━\u001b[0m \u001b[32m109.0/109.0 kB\u001b[0m \u001b[31m11.5 MB/s\u001b[0m eta \u001b[36m0:00:00\u001b[0m\n",
            "\u001b[2K     \u001b[90m━━━━━━━━━━━━━━━━━━━━━━━━━━━━━━━━━━━━━━━━\u001b[0m \u001b[32m53.1/53.1 kB\u001b[0m \u001b[31m6.5 MB/s\u001b[0m eta \u001b[36m0:00:00\u001b[0m\n",
            "\u001b[2K     \u001b[90m━━━━━━━━━━━━━━━━━━━━━━━━━━━━━━━━━━━━━━━━\u001b[0m \u001b[32m1.6/1.6 MB\u001b[0m \u001b[31m67.5 MB/s\u001b[0m eta \u001b[36m0:00:00\u001b[0m\n",
            "\u001b[?25h  Building wheel for lit (pyproject.toml) ... \u001b[?25l\u001b[?25hdone\n",
            "\u001b[31mERROR: pip's dependency resolver does not currently take into account all the packages that are installed. This behaviour is the source of the following dependency conflicts.\n",
            "lida 0.0.10 requires fastapi, which is not installed.\n",
            "lida 0.0.10 requires kaleido, which is not installed.\n",
            "lida 0.0.10 requires python-multipart, which is not installed.\n",
            "lida 0.0.10 requires uvicorn, which is not installed.\n",
            "cupy-cuda11x 11.0.0 requires numpy<1.26,>=1.20, but you have numpy 1.26.2 which is incompatible.\n",
            "imageio 2.31.6 requires pillow<10.1.0,>=8.3.2, but you have pillow 10.1.0 which is incompatible.\n",
            "tensorflow-probability 0.22.0 requires typing-extensions<4.6.0, but you have typing-extensions 4.8.0 which is incompatible.\u001b[0m\u001b[31m\n",
            "\u001b[0m"
          ]
        }
      ]
    },
    {
      "cell_type": "code",
      "execution_count": 2,
      "metadata": {
        "id": "xEDfNQnMIW9H",
        "ExecuteTime": {
          "end_time": "2023-11-29T01:40:50.313064222Z",
          "start_time": "2023-11-29T01:40:44.553052970Z"
        }
      },
      "outputs": [],
      "source": [
        "from collections import defaultdict, OrderedDict\n",
        "\n",
        "import numpy as np\n",
        "import torch\n",
        "from torch import nn\n",
        "from torch.optim import *\n",
        "from torch.optim.lr_scheduler import *\n",
        "from torch.utils.data import DataLoader\n",
        "from torchvision.datasets import *\n",
        "from torchvision.transforms import *\n",
        "import torch.optim as optim\n",
        "\n",
        "assert torch.cuda.is_available(), \\\n",
        "\"The current runtime does not have CUDA support.\" \\\n",
        "\"Please go to menu bar (Runtime - Change runtime type) and select GPU\""
      ]
    },
    {
      "cell_type": "markdown",
      "source": [
        "Load the Pre-Trained Model Weights"
      ],
      "metadata": {
        "id": "umyrKmgdEHQf"
      }
    },
    {
      "cell_type": "code",
      "source": [
        "from google.colab import drive\n",
        "drive.mount('/content/drive')\n",
        "model_path = \"drive/MyDrive/Efficientml/Efficientml.ai/vgg.cifar.pretrained.pth\""
      ],
      "metadata": {
        "colab": {
          "base_uri": "https://localhost:8080/"
        },
        "id": "YI-g2PwnGf_s",
        "outputId": "04861a2b-3451-4df4-ce14-a23d1ee20d9c"
      },
      "execution_count": 3,
      "outputs": [
        {
          "output_type": "stream",
          "name": "stdout",
          "text": [
            "Mounted at /content/drive\n"
          ]
        }
      ]
    },
    {
      "cell_type": "code",
      "source": [
        "\n",
        "class VGG(nn.Module):\n",
        "  ARCH = [64, 128, 'M', 256, 256, 'M', 512, 512, 'M', 512, 512, 'M']\n",
        "\n",
        "  def __init__(self) -> None:\n",
        "    super().__init__()\n",
        "\n",
        "    layers = []\n",
        "    counts = defaultdict(int)\n",
        "\n",
        "    def add(name: str, layer: nn.Module) -> None:\n",
        "      layers.append((f\"{name}{counts[name]}\", layer))\n",
        "      counts[name] += 1\n",
        "\n",
        "    in_channels = 3\n",
        "    for x in self.ARCH:\n",
        "      if x != 'M':\n",
        "        # conv-bn-relu\n",
        "        add(\"conv\", nn.Conv2d(in_channels, x, 3, padding=1, bias=False))\n",
        "        add(\"bn\", nn.BatchNorm2d(x))\n",
        "        add(\"relu\", nn.ReLU(True))\n",
        "        in_channels = x\n",
        "      else:\n",
        "        # maxpool\n",
        "        add(\"pool\", nn.MaxPool2d(2))\n",
        "\n",
        "    self.backbone = nn.Sequential(OrderedDict(layers))\n",
        "    self.classifier = nn.Linear(512, 10)\n",
        "\n",
        "  def forward(self, x: torch.Tensor) -> torch.Tensor:\n",
        "    # backbone: [N, 3, 32, 32] => [N, 512, 2, 2]\n",
        "    x = self.backbone(x)\n",
        "\n",
        "    # avgpool: [N, 512, 2, 2] => [N, 512]\n",
        "    x = x.mean([2, 3])\n",
        "\n",
        "    # classifier: [N, 512] => [N, 10]\n",
        "    x = self.classifier(x)\n",
        "    return x\n",
        "\n",
        "\n",
        "#load the pretrained model\n",
        "\n",
        "model = VGG().cuda()\n",
        "checkpoint = torch.load(model_path)\n",
        "model.load_state_dict(checkpoint['state_dict'])"
      ],
      "metadata": {
        "colab": {
          "base_uri": "https://localhost:8080/"
        },
        "id": "e8_S-wtTEGKu",
        "outputId": "782f7d3a-e0f2-40d8-c492-668dd7eb8867"
      },
      "execution_count": 4,
      "outputs": [
        {
          "output_type": "execute_result",
          "data": {
            "text/plain": [
              "<All keys matched successfully>"
            ]
          },
          "metadata": {},
          "execution_count": 4
        }
      ]
    },
    {
      "cell_type": "markdown",
      "source": [
        "Setup the Dataset"
      ],
      "metadata": {
        "id": "o020nzh1Ea3s"
      }
    },
    {
      "cell_type": "code",
      "execution_count": 5,
      "metadata": {
        "colab": {
          "base_uri": "https://localhost:8080/"
        },
        "id": "nozAsRWpNfa8",
        "outputId": "7229d497-5c02-4ced-cfdf-055e254ecd2d"
      },
      "outputs": [
        {
          "output_type": "stream",
          "name": "stdout",
          "text": [
            "Downloading https://www.cs.toronto.edu/~kriz/cifar-10-python.tar.gz to data/cifar10/cifar-10-python.tar.gz\n"
          ]
        },
        {
          "output_type": "stream",
          "name": "stderr",
          "text": [
            "100%|██████████| 170498071/170498071 [00:03<00:00, 48771323.02it/s]\n"
          ]
        },
        {
          "output_type": "stream",
          "name": "stdout",
          "text": [
            "Extracting data/cifar10/cifar-10-python.tar.gz to data/cifar10\n",
            "Files already downloaded and verified\n"
          ]
        }
      ],
      "source": [
        "image_size = 32\n",
        "transforms = {\n",
        "    \"train\": transforms.Compose([\n",
        "        RandomCrop(image_size, padding=4),\n",
        "        RandomHorizontalFlip(),\n",
        "        ToTensor(),\n",
        "    ]),\n",
        "    \"test\": ToTensor(),\n",
        "}\n",
        "dataset = {}\n",
        "for split in [\"train\", \"test\"]:\n",
        "\n",
        "    dataset[split] = CIFAR10(\n",
        "    root=\"data/cifar10\",\n",
        "    train=(split == \"train\"),\n",
        "    download=True,\n",
        "    transform=transforms[split],\n",
        "    )\n",
        "\n",
        "dataloader = {}\n",
        "for split in ['train', 'test']:\n",
        "  dataloader[split] = DataLoader(\n",
        "    dataset[split],\n",
        "    batch_size=512,\n",
        "    shuffle=(split == 'train'),\n",
        "    num_workers=0,\n",
        "    pin_memory=True,\n",
        "  )\n",
        "\n",
        "\n"
      ]
    },
    {
      "cell_type": "markdown",
      "source": [
        "sconce Configurations"
      ],
      "metadata": {
        "id": "ByJy8c5NCxD3"
      }
    },
    {
      "cell_type": "code",
      "execution_count": 6,
      "metadata": {
        "id": "YuCi_bPhNrMn"
      },
      "outputs": [],
      "source": [
        "from sconce import sconce\n",
        "\n",
        "\n",
        "sconces = sconce()\n",
        "sconces.model= model\n",
        "sconces.criterion = nn.CrossEntropyLoss() # Loss\n",
        "sconces.optimizer= optim.Adam(sconces.model.parameters(), lr=1e-4)\n",
        "sconces.scheduler = optim.lr_scheduler.CosineAnnealingLR(sconces.optimizer, T_max=200)\n",
        "sconces.dataloader = dataloader\n",
        "sconces.epochs = 1 #Number of time we iterate over the data\n",
        "sconces.device = torch.device(\"cuda\" if torch.cuda.is_available() else \"cpu\")\n",
        "sconces.experiment_name = \"vgg-gmp\"\n",
        "sconces.prune_mode = \"GMP\" # Supports Automated Pruning Ratio Detection\n"
      ]
    },
    {
      "cell_type": "markdown",
      "source": [
        "Train and Validated the Model on the given dataset"
      ],
      "metadata": {
        "id": "pTSAWI8REuFZ"
      }
    },
    {
      "cell_type": "code",
      "source": [
        "# Train the model\n",
        "sconces.train()\n",
        "# Evaludate the model\n",
        "sconces.evaluate()"
      ],
      "metadata": {
        "colab": {
          "base_uri": "https://localhost:8080/"
        },
        "id": "iYNkCi7tC6Cl",
        "outputId": "34599602-0add-4ceb-9fdc-f265acda8b05"
      },
      "execution_count": 7,
      "outputs": [
        {
          "output_type": "stream",
          "name": "stderr",
          "text": []
        },
        {
          "output_type": "stream",
          "name": "stdout",
          "text": [
            "Epoch:1 Train Loss: 0.00000 Validation Accuracy: 92.92585\n"
          ]
        },
        {
          "output_type": "stream",
          "name": "stderr",
          "text": []
        },
        {
          "output_type": "execute_result",
          "data": {
            "text/plain": [
              "92.92585170340682"
            ]
          },
          "metadata": {},
          "execution_count": 7
        }
      ]
    },
    {
      "cell_type": "markdown",
      "source": [
        "Magic Happens here: Compress the model(GMP pruning is set as the prune mode[sconces.prune_mode] above)"
      ],
      "metadata": {
        "id": "RcOCi-1eFub4"
      }
    },
    {
      "cell_type": "code",
      "source": [
        "# Compress the model granuarly\n",
        "sconces.compress()"
      ],
      "metadata": {
        "colab": {
          "base_uri": "https://localhost:8080/"
        },
        "id": "Fz5JBFBVFFjU",
        "outputId": "384adc59-af97-4b58-b969-ebe93c76bdfe"
      },
      "execution_count": 8,
      "outputs": [
        {
          "output_type": "stream",
          "name": "stdout",
          "text": [
            "\n",
            "Original Dense Model Size Model=35.20 MiB\n"
          ]
        },
        {
          "output_type": "stream",
          "name": "stderr",
          "text": []
        },
        {
          "output_type": "stream",
          "name": "stdout",
          "text": [
            "Original Model Validation Accuracy: 92.92585170340682 %\n",
            "Granular-Magnitude Pruning\n"
          ]
        },
        {
          "output_type": "stream",
          "name": "stderr",
          "text": []
        },
        {
          "output_type": "stream",
          "name": "stdout",
          "text": [
            "Sparsity for each Layer: {'backbone.conv0.weight': 0.45000000000000007, 'backbone.conv1.weight': 0.7000000000000002, 'backbone.conv2.weight': 0.5000000000000001, 'backbone.conv3.weight': 0.25000000000000006, 'backbone.conv4.weight': 0.3500000000000001, 'backbone.conv5.weight': 0.6000000000000002, 'backbone.conv6.weight': 0.25000000000000006, 'backbone.conv7.weight': 0.30000000000000004, 'classifier.weight': 0.8500000000000002}\n"
          ]
        },
        {
          "output_type": "stream",
          "name": "stderr",
          "text": []
        },
        {
          "output_type": "stream",
          "name": "stdout",
          "text": [
            "\n",
            "Pruned Model has size=21.94 MiB(non-zeros) = 62.31% of Original model size\n"
          ]
        },
        {
          "output_type": "stream",
          "name": "stderr",
          "text": []
        },
        {
          "output_type": "stream",
          "name": "stdout",
          "text": [
            "Epoch:1 Train Loss: 0.00000 Validation Accuracy: 92.67535\n"
          ]
        },
        {
          "output_type": "stream",
          "name": "stderr",
          "text": []
        },
        {
          "output_type": "stream",
          "name": "stdout",
          "text": [
            "Epoch:2 Train Loss: 0.00000 Validation Accuracy: 92.74549\n"
          ]
        },
        {
          "output_type": "stream",
          "name": "stderr",
          "text": []
        },
        {
          "output_type": "stream",
          "name": "stdout",
          "text": [
            "Epoch:3 Train Loss: 0.00000 Validation Accuracy: 92.81563\n"
          ]
        },
        {
          "output_type": "stream",
          "name": "stderr",
          "text": []
        },
        {
          "output_type": "stream",
          "name": "stdout",
          "text": [
            "Epoch:4 Train Loss: 0.00000 Validation Accuracy: 92.78557\n"
          ]
        },
        {
          "output_type": "stream",
          "name": "stderr",
          "text": []
        },
        {
          "output_type": "stream",
          "name": "stdout",
          "text": [
            "Epoch:5 Train Loss: 0.00000 Validation Accuracy: 92.82565\n"
          ]
        },
        {
          "output_type": "stream",
          "name": "stderr",
          "text": []
        },
        {
          "output_type": "stream",
          "name": "stdout",
          "text": [
            "\n",
            " ................. Comparison Table  .................\n",
            "                Original        Pruned          Reduction Ratio\n",
            "Latency (ms)    34800.0         33400.0         1.0            \n",
            "MACs (M)        606             606             1.0            \n",
            "Param (M)       9.23            5.75            1.6            \n",
            "Accuracies (%)  92.926          92.826          -0.1           \n",
            "Fine-Tuned Sparse model has size=21.94 MiB = 62.31% of Original model size\n",
            "Fine-Tuned Pruned Model Validation Accuracy: 92.82565130260521\n"
          ]
        }
      ]
    },
    {
      "cell_type": "markdown",
      "source": [
        "**Channel-Wise Pruning**"
      ],
      "metadata": {
        "id": "YA_wSOZe3whu"
      }
    },
    {
      "cell_type": "code",
      "source": [
        "sconces = sconce()\n",
        "sconces.model= model\n",
        "sconces.criterion = nn.CrossEntropyLoss() # Loss\n",
        "sconces.optimizer= optim.Adam(sconces.model.parameters(), lr=1e-4)\n",
        "sconces.scheduler = optim.lr_scheduler.CosineAnnealingLR(sconces.optimizer, T_max=200)\n",
        "sconces.dataloader = dataloader\n",
        "sconces.epochs = 1 #Number of time we iterate over the data\n",
        "sconces.device = torch.device(\"cuda\" if torch.cuda.is_available() else \"cpu\")\n",
        "sconces.experiment_name = \"vgg-cwp\"\n",
        "sconces.prune_mode = \"CWP\" # Supports Automated Pruning Ratio Detection\n"
      ],
      "metadata": {
        "id": "vtPnGXwr4wka"
      },
      "execution_count": null,
      "outputs": []
    },
    {
      "cell_type": "code",
      "source": [
        "# Compress the model Channel-Wise\n",
        "sconces.compress()"
      ],
      "metadata": {
        "id": "KT-ZQHTA0L5C",
        "colab": {
          "base_uri": "https://localhost:8080/"
        },
        "outputId": "9f1a4c16-90ba-4bb8-ea61-bb50f94de6a1"
      },
      "execution_count": 9,
      "outputs": [
        {
          "output_type": "stream",
          "name": "stdout",
          "text": [
            "\n",
            "Original Dense Model Size Model=21.94 MiB\n"
          ]
        },
        {
          "output_type": "stream",
          "name": "stderr",
          "text": []
        },
        {
          "output_type": "stream",
          "name": "stdout",
          "text": [
            "Original Model Validation Accuracy: 92.82565130260521 %\n"
          ]
        },
        {
          "output_type": "stream",
          "name": "stderr",
          "text": []
        },
        {
          "output_type": "stream",
          "name": "stdout",
          "text": [
            "\n",
            " Channel-Wise Pruning\n",
            "Sparsity for each Layer: {'backbone.conv0.weight': 0.1, 'backbone.conv1.weight': 0.1, 'backbone.conv2.weight': 0.15000000000000002, 'backbone.conv3.weight': 0.15000000000000002, 'backbone.conv4.weight': 0.25000000000000006, 'backbone.conv5.weight': 0.20000000000000004, 'backbone.conv6.weight': 0.40000000000000013}\n"
          ]
        },
        {
          "output_type": "stream",
          "name": "stderr",
          "text": []
        },
        {
          "output_type": "stream",
          "name": "stdout",
          "text": [
            "\n",
            "Pruned Model has size=12.81 MiB(non-zeros) = 58.41% of Original model size\n"
          ]
        },
        {
          "output_type": "stream",
          "name": "stderr",
          "text": []
        },
        {
          "output_type": "stream",
          "name": "stdout",
          "text": [
            "Epoch:1 Train Loss: 0.00000 Validation Accuracy: 89.83968\n"
          ]
        },
        {
          "output_type": "stream",
          "name": "stderr",
          "text": []
        },
        {
          "output_type": "stream",
          "name": "stdout",
          "text": [
            "Epoch:2 Train Loss: 0.00000 Validation Accuracy: 89.97996\n"
          ]
        },
        {
          "output_type": "stream",
          "name": "stderr",
          "text": []
        },
        {
          "output_type": "stream",
          "name": "stdout",
          "text": [
            "Epoch:3 Train Loss: 0.00000 Validation Accuracy: 90.21042\n"
          ]
        },
        {
          "output_type": "stream",
          "name": "stderr",
          "text": []
        },
        {
          "output_type": "stream",
          "name": "stdout",
          "text": [
            "Epoch:4 Train Loss: 0.00000 Validation Accuracy: 90.39078\n"
          ]
        },
        {
          "output_type": "stream",
          "name": "stderr",
          "text": []
        },
        {
          "output_type": "stream",
          "name": "stdout",
          "text": [
            "Epoch:5 Train Loss: 0.00000 Validation Accuracy: 90.59118\n"
          ]
        },
        {
          "output_type": "stream",
          "name": "stderr",
          "text": []
        },
        {
          "output_type": "stream",
          "name": "stdout",
          "text": [
            "\n",
            " ................. Comparison Table  .................\n",
            "                Original        Pruned          Reduction Ratio\n",
            "Latency (ms)    38700.0         21200.0         1.8            \n",
            "MACs (M)        606             410             1.5            \n",
            "Param (M)       5.75            5.44            1.1            \n",
            "Accuracies (%)  92.826          90.591          -2.234         \n",
            "Fine-Tuned Sparse model has size=20.76 MiB = 94.62% of Original model size\n",
            "Fine-Tuned Pruned Model Validation Accuracy: 90.59118236472946\n"
          ]
        }
      ]
    },
    {
      "cell_type": "markdown",
      "source": [
        "Notice that intially,\n",
        "\n",
        "\n",
        "*   **Dense Model** has a size of *35.20MiB* and accuracy of *92.89%*.\n",
        "*   **Post Pruning(GMP) Pruned Model** size *23.18MiB* with accuracy of *65.85%*.\n",
        "*   Upon **fine-tuning the Prune Model**, we have the final pruned model size of *23.18MiB* with an accuracy of *93.19%*.\n",
        "\n",
        "\n",
        "| Metric                        | Original | Pruned  | Reduction Ratio |\n",
        "|-------------------------------|----------|---------|-----------------|\n",
        "| Latency (ms)                  | 19900.0  | 19900.0 | 1.0             |\n",
        "| MACs (M)                      | 606      | 606     | 1.0             |\n",
        "| Param (M)                     | 9.23     | 9.23    | 1.0             |\n",
        "| Fine-Tuned Sparse Model Size  | -        | 23.18 MiB | 65.85%         |\n",
        "| Fine-Tuned Pruned Model Validation Accuracy | -    | 93.196% | -   |\n",
        "\n",
        "\n",
        "\n",
        "\n"
      ],
      "metadata": {
        "id": "2quYDMZiIlwX"
      }
    },
    {
      "cell_type": "markdown",
      "source": [
        "Spiking Neural Network Compression\n"
      ],
      "metadata": {
        "id": "oJjAdrRK0aRD"
      }
    },
    {
      "cell_type": "code",
      "source": [
        "!pip install snntorch -q"
      ],
      "metadata": {
        "id": "SPatw1ex08kR"
      },
      "execution_count": 10,
      "outputs": []
    },
    {
      "cell_type": "code",
      "source": [
        "# Import snntorch libraries\n",
        "import snntorch as snn\n",
        "from snntorch import surrogate\n",
        "from snntorch import backprop\n",
        "from snntorch import functional as SF\n",
        "from snntorch import utils\n",
        "from snntorch import spikeplot as splt\n",
        "from torch import optim\n",
        "\n",
        "import torch\n",
        "import torch.nn as nn\n",
        "from torch.utils.data import DataLoader\n",
        "from torchvision import datasets, transforms\n",
        "import torch.nn.functional as F\n",
        "\n",
        "import matplotlib.pyplot as plt\n",
        "import numpy as np\n",
        "import itertools\n",
        "\n"
      ],
      "metadata": {
        "id": "V9qFLeGl0y24",
        "colab": {
          "base_uri": "https://localhost:8080/"
        },
        "outputId": "c880f80a-8277-4e13-daa9-30864bc3d3d9"
      },
      "execution_count": 11,
      "outputs": [
        {
          "output_type": "stream",
          "name": "stderr",
          "text": [
            "<ipython-input-11-b898cb6c07c2>:4: DeprecationWarning: The module snntorch.backprop will be deprecated in  a future release. Writing out your own training loop will lead to substantially faster performance.\n",
            "  from snntorch import backprop\n"
          ]
        }
      ]
    },
    {
      "cell_type": "code",
      "source": [
        "\n",
        "# Event Drive Data\n",
        "\n",
        "# dataloader arguments\n",
        "batch_size = 128\n",
        "data_path = \"./data/mnist\"\n",
        "\n",
        "dtype = torch.float\n",
        "device = torch.device(\"cuda\") if torch.cuda.is_available() else torch.device(\"cpu\")\n",
        "\n",
        "# Define a transform\n",
        "transform = transforms.Compose(\n",
        "    [\n",
        "        transforms.Resize((28, 28)),\n",
        "        transforms.Grayscale(),\n",
        "        transforms.ToTensor(),\n",
        "        transforms.Normalize((0,), (1,)),\n",
        "    ]\n",
        ")\n",
        "\n",
        "mnist_train = datasets.MNIST(data_path, train=True, download=True, transform=transform)\n",
        "mnist_test = datasets.MNIST(data_path, train=False, download=True, transform=transform)\n",
        "\n",
        "# Create DataLoaders\n",
        "train_loader = DataLoader(\n",
        "    mnist_train, batch_size=batch_size, shuffle=True, drop_last=True\n",
        ")\n",
        "test_loader = DataLoader(\n",
        "    mnist_test, batch_size=batch_size, shuffle=True, drop_last=True\n",
        ")\n",
        "\n",
        "# Set you Dataloader\n",
        "dataloader = {}\n",
        "dataloader[\"train\"] = train_loader\n",
        "dataloader[\"test\"] = test_loader\n",
        "sconces.dataloader = dataloader\n"
      ],
      "metadata": {
        "id": "zk0TCGvRKOWh",
        "colab": {
          "base_uri": "https://localhost:8080/"
        },
        "outputId": "b10016e2-1c2d-4cc8-90ec-b5fa52a1484c"
      },
      "execution_count": 12,
      "outputs": [
        {
          "output_type": "stream",
          "name": "stdout",
          "text": [
            "Downloading http://yann.lecun.com/exdb/mnist/train-images-idx3-ubyte.gz\n",
            "Downloading http://yann.lecun.com/exdb/mnist/train-images-idx3-ubyte.gz to ./data/mnist/MNIST/raw/train-images-idx3-ubyte.gz\n"
          ]
        },
        {
          "output_type": "stream",
          "name": "stderr",
          "text": [
            "100%|██████████| 9912422/9912422 [00:00<00:00, 84768984.25it/s]\n"
          ]
        },
        {
          "output_type": "stream",
          "name": "stdout",
          "text": [
            "Extracting ./data/mnist/MNIST/raw/train-images-idx3-ubyte.gz to ./data/mnist/MNIST/raw\n",
            "\n",
            "Downloading http://yann.lecun.com/exdb/mnist/train-labels-idx1-ubyte.gz\n",
            "Downloading http://yann.lecun.com/exdb/mnist/train-labels-idx1-ubyte.gz to ./data/mnist/MNIST/raw/train-labels-idx1-ubyte.gz\n"
          ]
        },
        {
          "output_type": "stream",
          "name": "stderr",
          "text": [
            "100%|██████████| 28881/28881 [00:00<00:00, 18909724.29it/s]\n"
          ]
        },
        {
          "output_type": "stream",
          "name": "stdout",
          "text": [
            "Extracting ./data/mnist/MNIST/raw/train-labels-idx1-ubyte.gz to ./data/mnist/MNIST/raw\n",
            "\n",
            "Downloading http://yann.lecun.com/exdb/mnist/t10k-images-idx3-ubyte.gz\n",
            "Downloading http://yann.lecun.com/exdb/mnist/t10k-images-idx3-ubyte.gz to ./data/mnist/MNIST/raw/t10k-images-idx3-ubyte.gz\n"
          ]
        },
        {
          "output_type": "stream",
          "name": "stderr",
          "text": [
            "100%|██████████| 1648877/1648877 [00:00<00:00, 42180357.38it/s]\n"
          ]
        },
        {
          "output_type": "stream",
          "name": "stdout",
          "text": [
            "Extracting ./data/mnist/MNIST/raw/t10k-images-idx3-ubyte.gz to ./data/mnist/MNIST/raw\n",
            "\n",
            "Downloading http://yann.lecun.com/exdb/mnist/t10k-labels-idx1-ubyte.gz\n",
            "Downloading http://yann.lecun.com/exdb/mnist/t10k-labels-idx1-ubyte.gz to ./data/mnist/MNIST/raw/t10k-labels-idx1-ubyte.gz\n"
          ]
        },
        {
          "output_type": "stream",
          "name": "stderr",
          "text": [
            "100%|██████████| 4542/4542 [00:00<00:00, 4731875.00it/s]\n"
          ]
        },
        {
          "output_type": "stream",
          "name": "stdout",
          "text": [
            "Extracting ./data/mnist/MNIST/raw/t10k-labels-idx1-ubyte.gz to ./data/mnist/MNIST/raw\n",
            "\n"
          ]
        }
      ]
    },
    {
      "cell_type": "code",
      "source": [
        "sconces = sconce()\n",
        "\n",
        "sconces.snn = True\n",
        "\n",
        "\n",
        "\n",
        "spike_grad = surrogate.fast_sigmoid(slope=25)\n",
        "beta = 0.5\n",
        "# Load your snn Model\n",
        "snn_model = nn.Sequential(\n",
        "    nn.Conv2d(1, 12, 5),\n",
        "    nn.MaxPool2d(2),\n",
        "    snn.Leaky(beta=beta, spike_grad=spike_grad, init_hidden=True),\n",
        "    nn.Conv2d(12, 64, 5),\n",
        "    nn.MaxPool2d(2),\n",
        "    snn.Leaky(beta=beta, spike_grad=spike_grad, init_hidden=True),\n",
        "    nn.Flatten(),\n",
        "    nn.Linear(64 * 4 * 4, 10),\n",
        "    snn.Leaky(beta=beta, spike_grad=spike_grad, init_hidden=True, output=True),\n",
        ").to(device)\n",
        "snn_pretrained_model_path = \"drive/MyDrive/Efficientml/Efficientml.ai/snn_model.pth\"\n",
        "snn_model.load_state_dict(torch.load(snn_pretrained_model_path))  # Model Definition\n",
        "sconces.model = snn_model\n",
        "\n",
        "sconces.optimizer = optim.Adam(sconces.model.parameters(), lr=1e-4)\n",
        "sconces.scheduler = optim.lr_scheduler.CosineAnnealingLR(sconces.optimizer, T_max=200)\n",
        "\n",
        "sconces.criterion = SF.ce_rate_loss()\n",
        "\n",
        "sconces.epochs = 10  # Number of time we iterate over the data\n",
        "sconces.device = torch.device(\"cuda\" if torch.cuda.is_available() else \"cpu\")\n",
        "sconces.experiment_name = \"snn-gmp\"  # Define your experiment name here\n",
        "sconces.prune_mode = \"GMP\"\n",
        "sconces.num_finetune_epochs = 1\n",
        "\n"
      ],
      "metadata": {
        "id": "LzEHUCSx0hN6"
      },
      "execution_count": 13,
      "outputs": []
    },
    {
      "cell_type": "code",
      "source": [
        "sconces.compress()"
      ],
      "metadata": {
        "id": "K6kWCtSk0kVq",
        "colab": {
          "base_uri": "https://localhost:8080/",
          "height": 564
        },
        "outputId": "fb7d2300-8460-4426-ec74-adf806346198"
      },
      "execution_count": 14,
      "outputs": [
        {
          "output_type": "error",
          "ename": "AttributeError",
          "evalue": "ignored",
          "traceback": [
            "\u001b[0;31m---------------------------------------------------------------------------\u001b[0m",
            "\u001b[0;31mAttributeError\u001b[0m                            Traceback (most recent call last)",
            "\u001b[0;32m<ipython-input-14-1ba9890d3228>\u001b[0m in \u001b[0;36m<cell line: 1>\u001b[0;34m()\u001b[0m\n\u001b[0;32m----> 1\u001b[0;31m \u001b[0msconces\u001b[0m\u001b[0;34m.\u001b[0m\u001b[0mcompress\u001b[0m\u001b[0;34m(\u001b[0m\u001b[0;34m)\u001b[0m\u001b[0;34m\u001b[0m\u001b[0;34m\u001b[0m\u001b[0m\n\u001b[0m",
            "\u001b[0;32m/usr/local/lib/python3.10/dist-packages/sconce/sconce.py\u001b[0m in \u001b[0;36mcompress\u001b[0;34m(self, verbose)\u001b[0m\n\u001b[1;32m    662\u001b[0m             \u001b[0mself\u001b[0m\u001b[0;34m.\u001b[0m\u001b[0mexperiment_name\u001b[0m \u001b[0;34m+\u001b[0m \u001b[0;34m\"_original_weights.pth\"\u001b[0m\u001b[0;34m,\u001b[0m\u001b[0;34m\u001b[0m\u001b[0;34m\u001b[0m\u001b[0m\n\u001b[1;32m    663\u001b[0m         )\n\u001b[0;32m--> 664\u001b[0;31m         \u001b[0mtorch\u001b[0m\u001b[0;34m.\u001b[0m\u001b[0msave\u001b[0m\u001b[0;34m(\u001b[0m\u001b[0moriginal_dense_model\u001b[0m\u001b[0;34m,\u001b[0m \u001b[0;34m\"original_model.pth\"\u001b[0m\u001b[0;34m)\u001b[0m\u001b[0;34m\u001b[0m\u001b[0;34m\u001b[0m\u001b[0m\n\u001b[0m\u001b[1;32m    665\u001b[0m \u001b[0;34m\u001b[0m\u001b[0m\n\u001b[1;32m    666\u001b[0m         dense_model_size = self.get_model_size(\n",
            "\u001b[0;32m/usr/local/lib/python3.10/dist-packages/torch/serialization.py\u001b[0m in \u001b[0;36msave\u001b[0;34m(obj, f, pickle_module, pickle_protocol, _use_new_zipfile_serialization, _disable_byteorder_record)\u001b[0m\n\u001b[1;32m    617\u001b[0m     \u001b[0;32mif\u001b[0m \u001b[0m_use_new_zipfile_serialization\u001b[0m\u001b[0;34m:\u001b[0m\u001b[0;34m\u001b[0m\u001b[0;34m\u001b[0m\u001b[0m\n\u001b[1;32m    618\u001b[0m         \u001b[0;32mwith\u001b[0m \u001b[0m_open_zipfile_writer\u001b[0m\u001b[0;34m(\u001b[0m\u001b[0mf\u001b[0m\u001b[0;34m)\u001b[0m \u001b[0;32mas\u001b[0m \u001b[0mopened_zipfile\u001b[0m\u001b[0;34m:\u001b[0m\u001b[0;34m\u001b[0m\u001b[0;34m\u001b[0m\u001b[0m\n\u001b[0;32m--> 619\u001b[0;31m             \u001b[0m_save\u001b[0m\u001b[0;34m(\u001b[0m\u001b[0mobj\u001b[0m\u001b[0;34m,\u001b[0m \u001b[0mopened_zipfile\u001b[0m\u001b[0;34m,\u001b[0m \u001b[0mpickle_module\u001b[0m\u001b[0;34m,\u001b[0m \u001b[0mpickle_protocol\u001b[0m\u001b[0;34m,\u001b[0m \u001b[0m_disable_byteorder_record\u001b[0m\u001b[0;34m)\u001b[0m\u001b[0;34m\u001b[0m\u001b[0;34m\u001b[0m\u001b[0m\n\u001b[0m\u001b[1;32m    620\u001b[0m             \u001b[0;32mreturn\u001b[0m\u001b[0;34m\u001b[0m\u001b[0;34m\u001b[0m\u001b[0m\n\u001b[1;32m    621\u001b[0m     \u001b[0;32melse\u001b[0m\u001b[0;34m:\u001b[0m\u001b[0;34m\u001b[0m\u001b[0;34m\u001b[0m\u001b[0m\n",
            "\u001b[0;32m/usr/local/lib/python3.10/dist-packages/torch/serialization.py\u001b[0m in \u001b[0;36m_save\u001b[0;34m(obj, zip_file, pickle_module, pickle_protocol, _disable_byteorder_record)\u001b[0m\n\u001b[1;32m    829\u001b[0m     \u001b[0mpickler\u001b[0m \u001b[0;34m=\u001b[0m \u001b[0mpickle_module\u001b[0m\u001b[0;34m.\u001b[0m\u001b[0mPickler\u001b[0m\u001b[0;34m(\u001b[0m\u001b[0mdata_buf\u001b[0m\u001b[0;34m,\u001b[0m \u001b[0mprotocol\u001b[0m\u001b[0;34m=\u001b[0m\u001b[0mpickle_protocol\u001b[0m\u001b[0;34m)\u001b[0m\u001b[0;34m\u001b[0m\u001b[0;34m\u001b[0m\u001b[0m\n\u001b[1;32m    830\u001b[0m     \u001b[0mpickler\u001b[0m\u001b[0;34m.\u001b[0m\u001b[0mpersistent_id\u001b[0m \u001b[0;34m=\u001b[0m \u001b[0mpersistent_id\u001b[0m\u001b[0;34m\u001b[0m\u001b[0;34m\u001b[0m\u001b[0m\n\u001b[0;32m--> 831\u001b[0;31m     \u001b[0mpickler\u001b[0m\u001b[0;34m.\u001b[0m\u001b[0mdump\u001b[0m\u001b[0;34m(\u001b[0m\u001b[0mobj\u001b[0m\u001b[0;34m)\u001b[0m\u001b[0;34m\u001b[0m\u001b[0;34m\u001b[0m\u001b[0m\n\u001b[0m\u001b[1;32m    832\u001b[0m     \u001b[0mdata_value\u001b[0m \u001b[0;34m=\u001b[0m \u001b[0mdata_buf\u001b[0m\u001b[0;34m.\u001b[0m\u001b[0mgetvalue\u001b[0m\u001b[0;34m(\u001b[0m\u001b[0;34m)\u001b[0m\u001b[0;34m\u001b[0m\u001b[0;34m\u001b[0m\u001b[0m\n\u001b[1;32m    833\u001b[0m     \u001b[0mzip_file\u001b[0m\u001b[0;34m.\u001b[0m\u001b[0mwrite_record\u001b[0m\u001b[0;34m(\u001b[0m\u001b[0;34m'data.pkl'\u001b[0m\u001b[0;34m,\u001b[0m \u001b[0mdata_value\u001b[0m\u001b[0;34m,\u001b[0m \u001b[0mlen\u001b[0m\u001b[0;34m(\u001b[0m\u001b[0mdata_value\u001b[0m\u001b[0;34m)\u001b[0m\u001b[0;34m)\u001b[0m\u001b[0;34m\u001b[0m\u001b[0;34m\u001b[0m\u001b[0m\n",
            "\u001b[0;31mAttributeError\u001b[0m: Can't pickle local object 'fast_sigmoid.<locals>.inner'"
          ]
        }
      ]
    }
  ],
  "metadata": {
    "accelerator": "GPU",
    "colab": {
      "machine_shape": "hm",
      "provenance": []
    },
    "kernelspec": {
      "name": "python3",
      "language": "python",
      "display_name": "Python 3 (ipykernel)"
    },
    "language_info": {
      "codemirror_mode": {
        "name": "ipython",
        "version": 3
      },
      "file_extension": ".py",
      "mimetype": "text/x-python",
      "name": "python",
      "nbconvert_exporter": "python",
      "pygments_lexer": "ipython3",
      "version": "3.11.4"
    }
  },
  "nbformat": 4,
  "nbformat_minor": 0
}