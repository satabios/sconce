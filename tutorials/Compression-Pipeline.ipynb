{
 "cells": [
  {
   "cell_type": "markdown",
   "metadata": {
    "id": "DAEo_wyhLlHs"
   },
   "source": []
  },
  {
   "cell_type": "markdown",
   "metadata": {
    "id": "5imcpcgZLlHt"
   },
   "source": [
    "===============================\\\n",
    "   Compression Pipeline\\\n",
    "==============================="
   ]
  },
  {
   "cell_type": "code",
   "execution_count": 2,
   "metadata": {
    "colab": {
     "base_uri": "https://localhost:8080/"
    },
    "id": "2o8dmwh_LvSZ",
    "outputId": "ac78edfe-d23c-4991-bed4-9645199f2096"
   },
   "source": [
    "!pip install sconce --quiet"
   ],
   "outputs": []
  },
  {
   "cell_type": "code",
   "execution_count": 1,
   "metadata": {
    "ExecuteTime": {
     "end_time": "2023-12-01T07:32:53.170470032Z",
     "start_time": "2023-12-01T07:32:50.766056935Z"
    },
    "id": "xEDfNQnMIW9H"
   },
   "source": [
    "from collections import defaultdict, OrderedDict\n",
    "from sconce import sconce\n",
    "\n",
    "from sconce import sconce\n",
    "import copy\n",
    "import numpy as np\n",
    "import torch\n",
    "from torch import nn\n",
    "from torch.optim import *\n",
    "from torch.optim.lr_scheduler import *\n",
    "from torch.utils.data import DataLoader\n",
    "from torchvision.datasets import *\n",
    "from torchvision.transforms import *\n",
    "import torch.optim as optim\n",
    "\n",
    "assert torch.cuda.is_available(), \\\n",
    "\"The current runtime does not have CUDA support.\" \\\n",
    "\"Please go to menu bar (Runtime - Change runtime type) and select GPU\""
   ],
   "outputs": []
  },
  {
   "cell_type": "markdown",
   "metadata": {
    "id": "umyrKmgdEHQf"
   },
   "source": [
    "Load the Pre-Trained Model Weights"
   ]
  },
  {
   "cell_type": "code",
   "execution_count": null,
   "metadata": {
    "colab": {
     "base_uri": "https://localhost:8080/"
    },
    "id": "YI-g2PwnGf_s",
    "outputId": "2d6b306b-61c6-4d7f-a7b6-a09418dca75e"
   },
   "source": [
    "!wget https://shorturl.at/qxFL7\n",
    "model_path = \"./vgg.cifar.pretrained.pth\""
   ],
   "outputs": []
  },
  {
   "cell_type": "code",
   "execution_count": 4,
   "metadata": {
    "ExecuteTime": {
     "end_time": "2023-12-01T07:32:56.646268058Z",
     "start_time": "2023-12-01T07:32:55.606697470Z"
    },
    "colab": {
     "base_uri": "https://localhost:8080/"
    },
    "id": "e8_S-wtTEGKu",
    "outputId": "f1877b9c-d994-4f4e-f0d1-2dd4cdc424fd"
   },
   "source": [
    "\n",
    "class VGG(nn.Module):\n",
    "  ARCH = [64, 128, 'M', 256, 256, 'M', 512, 512, 'M', 512, 512, 'M']\n",
    "\n",
    "  def __init__(self) -> None:\n",
    "    super().__init__()\n",
    "\n",
    "    layers = []\n",
    "    counts = defaultdict(int)\n",
    "\n",
    "    def add(name: str, layer: nn.Module) -> None:\n",
    "      layers.append((f\"{name}{counts[name]}\", layer))\n",
    "      counts[name] += 1\n",
    "\n",
    "    in_channels = 3\n",
    "    for x in self.ARCH:\n",
    "      if x != 'M':\n",
    "        # conv-bn-relu\n",
    "        add(\"conv\", nn.Conv2d(in_channels, x, 3, padding=1, bias=False))\n",
    "        add(\"bn\", nn.BatchNorm2d(x))\n",
    "        add(\"relu\", nn.ReLU(True))\n",
    "        in_channels = x\n",
    "      else:\n",
    "        # maxpool\n",
    "        add(\"pool\", nn.MaxPool2d(2))\n",
    "\n",
    "    self.backbone = nn.Sequential(OrderedDict(layers))\n",
    "    self.classifier = nn.Linear(512, 10)\n",
    "\n",
    "  def forward(self, x: torch.Tensor) -> torch.Tensor:\n",
    "    # backbone: [N, 3, 32, 32] => [N, 512, 2, 2]\n",
    "    x = self.backbone(x)\n",
    "\n",
    "    # avgpool: [N, 512, 2, 2] => [N, 512]\n",
    "    x = x.mean([2, 3])\n",
    "\n",
    "    # classifier: [N, 512] => [N, 10]\n",
    "    x = self.classifier(x)\n",
    "    return x\n",
    "\n",
    "\n",
    "#load the pretrained model\n",
    "\n",
    "model = VGG().cuda()\n",
    "checkpoint = torch.load(model_path)\n",
    "model.load_state_dict(checkpoint)"
   ],
   "outputs": []
  },
  {
   "cell_type": "markdown",
   "metadata": {
    "id": "o020nzh1Ea3s"
   },
   "source": [
    "Setup the Dataset"
   ]
  },
  {
   "cell_type": "code",
   "execution_count": 5,
   "metadata": {
    "ExecuteTime": {
     "end_time": "2023-12-01T07:33:50.919090166Z",
     "start_time": "2023-12-01T07:33:37.768089911Z"
    },
    "colab": {
     "base_uri": "https://localhost:8080/"
    },
    "id": "nozAsRWpNfa8",
    "outputId": "976c03ce-936e-4fcd-a15f-91efaba620d4"
   },
   "source": [
    "image_size = 32\n",
    "transforms = {\n",
    "    \"train\": transforms.Compose([\n",
    "        RandomCrop(image_size, padding=4),\n",
    "        RandomHorizontalFlip(),\n",
    "        ToTensor(),\n",
    "    ]),\n",
    "    \"test\": ToTensor(),\n",
    "}\n",
    "dataset = {}\n",
    "for split in [\"train\", \"test\"]:\n",
    "\n",
    "    dataset[split] = CIFAR10(\n",
    "    root=\"data/cifar10\",\n",
    "    train=(split == \"train\"),\n",
    "    download=True,\n",
    "    transform=transforms[split],\n",
    "    )\n",
    "\n",
    "dataloader = {}\n",
    "for split in ['train', 'test']:\n",
    "  dataloader[split] = DataLoader(\n",
    "    dataset[split],\n",
    "    batch_size=512,\n",
    "    shuffle=(split == 'train'),\n",
    "    num_workers=0,\n",
    "    pin_memory=True,\n",
    "  )\n",
    "\n",
    "\n"
   ],
   "outputs": []
  },
  {
   "cell_type": "markdown",
   "metadata": {
    "id": "ByJy8c5NCxD3"
   },
   "source": [
    "sconce Configurations"
   ]
  },
  {
   "cell_type": "markdown",
   "metadata": {
    "id": "YA_wSOZe3whu"
   },
   "source": [
    "**Channel-Wise Pruning**"
   ]
  },
  {
   "cell_type": "code",
   "execution_count": 10,
   "metadata": {
    "id": "vtPnGXwr4wka"
   },
   "source": [
    "sconces = sconce()\n",
    "sconces.model= copy.deepcopy(model)\n",
    "sconces.criterion = nn.CrossEntropyLoss() # Loss\n",
    "sconces.optimizer= optim.Adam(sconces.model.parameters(), lr=1e-4)\n",
    "sconces.scheduler = optim.lr_scheduler.CosineAnnealingLR(sconces.optimizer, T_max=200)\n",
    "sconces.dataloader = dataloader\n",
    "sconces.epochs = 1 #Number of time we iterate over the data\n",
    "sconces.device = torch.device(\"cuda\" if torch.cuda.is_available() else \"cpu\")\n",
    "sconces.experiment_name = \"vgg-cwp\"\n",
    "sconces.prune_mode = \"CWP\" # Supports Automated Pruning Ratio Detection\n"
   ],
   "outputs": []
  },
  {
   "cell_type": "code",
   "execution_count": 11,
   "metadata": {
    "colab": {
     "base_uri": "https://localhost:8080/"
    },
    "id": "KT-ZQHTA0L5C",
    "outputId": "8b95c30a-fcb9-4adb-8c3a-c12b59fc1b1f"
   },
   "source": [
    "# Compress the model Channel-Wise\n",
    "sconces.compress()"
   ],
   "outputs": []
  },
  {
   "cell_type": "code",
   "execution_count": 7,
   "metadata": {
    "colab": {
     "base_uri": "https://localhost:8080/"
    },
    "id": "YuCi_bPhNrMn",
    "outputId": "ba23426c-7104-4fe4-830f-8a12eb94618b"
   },
   "source": [
    "\n",
    "\n",
    "sconces = sconce()\n",
    "sconces.model= copy.deepcopy(model)\n",
    "sconces.criterion = nn.CrossEntropyLoss() # Loss\n",
    "sconces.optimizer= optim.Adam(sconces.model.parameters(), lr=1e-4)\n",
    "sconces.scheduler = optim.lr_scheduler.CosineAnnealingLR(sconces.optimizer, T_max=200)\n",
    "sconces.dataloader = dataloader\n",
    "sconces.epochs = 1 #Number of time we iterate over the data\n",
    "sconces.device = torch.device(\"cuda\" if torch.cuda.is_available() else \"cpu\")\n",
    "sconces.experiment_name = \"vgg-gmp\"\n",
    "sconces.prune_mode = \"GMP\" # Supports Automated Pruning Ratio Detection\n"
   ],
   "outputs": []
  },
  {
   "cell_type": "markdown",
   "metadata": {
    "id": "pTSAWI8REuFZ"
   },
   "source": [
    "Easy function calls for Train and Validated the Model on the given dataset"
   ]
  },
  {
   "cell_type": "code",
   "execution_count": 8,
   "metadata": {
    "colab": {
     "base_uri": "https://localhost:8080/"
    },
    "id": "iYNkCi7tC6Cl",
    "outputId": "a52b09d6-01f7-4465-efed-d125ed16b94f"
   },
   "source": [
    "# Train the model\n",
    "sconces.train()\n",
    "# Evaludate the model\n",
    "sconces.evaluate()"
   ],
   "outputs": []
  },
  {
   "cell_type": "markdown",
   "metadata": {
    "id": "RcOCi-1eFub4"
   },
   "source": [
    "Magic Happens here: Compress the model(GMP pruning is set as the prune mode[sconces.prune_mode] above)"
   ]
  },
  {
   "cell_type": "code",
   "execution_count": 9,
   "metadata": {
    "colab": {
     "base_uri": "https://localhost:8080/"
    },
    "id": "q1_dew86NADc",
    "outputId": "c389dc83-b63f-442f-91af-7b7aafe84125"
   },
   "source": [
    "sconces.compress()"
   ],
   "outputs": []
  },
  {
   "cell_type": "markdown",
   "metadata": {
    "id": "kA4Mmt3XLlHy"
   },
   "source": [
    "**Venum Pruning a better version of Wanda Pruning**"
   ]
  },
  {
   "cell_type": "code",
   "execution_count": null,
   "metadata": {
    "ExecuteTime": {
     "end_time": "2023-12-01T07:36:59.433154884Z",
     "start_time": "2023-12-01T07:33:58.232251482Z"
    },
    "id": "nQ1mWDluLlHy",
    "outputId": "1bc289ff-111a-48da-bf26-c97c0a44108b"
   },
   "source": [
    "# from sconce import sconce\n",
    "\n",
    "# sconces = sconce()\n",
    "# sconces.model = copy.deepcopy(model)\n",
    "# sconces.criterion = nn.CrossEntropyLoss()  # Loss\n",
    "# sconces.optimizer = optim.Adam(sconces.model.parameters(), lr=1e-4)\n",
    "# sconces.scheduler = optim.lr_scheduler.CosineAnnealingLR(sconces.optimizer, T_max=200)\n",
    "# sconces.dataloader = dataloader\n",
    "# sconces.device = torch.device(\"cuda\" if torch.cuda.is_available() else \"cpu\")\n",
    "# sconces.experiment_name = \"vgg-venum\"\n",
    "# sconces.prune_mode = \"venum\"  # Supports Automated Pruning Ratio Detection\n",
    "# sconces.compress()"
   ],
   "outputs": []
  },
  {
   "cell_type": "markdown",
   "metadata": {
    "id": "oJjAdrRK0aRD"
   },
   "source": [
    "Spiking Neural Network Compression\n"
   ]
  },
  {
   "cell_type": "code",
   "execution_count": null,
   "metadata": {
    "id": "SPatw1ex08kR"
   },
   "source": [
    "!pip install snntorch -q"
   ],
   "outputs": []
  },
  {
   "cell_type": "code",
   "execution_count": null,
   "metadata": {
    "colab": {
     "base_uri": "https://localhost:8080/"
    },
    "id": "V9qFLeGl0y24",
    "outputId": "ae51c5c9-a5a7-416f-ac9c-01e30734e19d"
   },
   "source": [
    "# Import snntorch libraries\n",
    "import snntorch as snn\n",
    "from snntorch import surrogate\n",
    "from snntorch import backprop\n",
    "from snntorch import functional as SF\n",
    "from snntorch import utils\n",
    "from snntorch import spikeplot as splt\n",
    "from torch import optim\n",
    "\n",
    "import torch\n",
    "import torch.nn as nn\n",
    "from torch.utils.data import DataLoader\n",
    "from torchvision import datasets, transforms\n",
    "import torch.nn.functional as F\n",
    "\n",
    "import matplotlib.pyplot as plt\n",
    "import numpy as np\n",
    "import itertools\n",
    "\n"
   ],
   "outputs": []
  },
  {
   "cell_type": "code",
   "execution_count": null,
   "metadata": {
    "id": "zk0TCGvRKOWh"
   },
   "source": [
    "\n",
    "# Event Drive Data\n",
    "\n",
    "# dataloader arguments\n",
    "batch_size = 128\n",
    "data_path = \"./data/mnist\"\n",
    "\n",
    "dtype = torch.float\n",
    "device = torch.device(\"cuda\") if torch.cuda.is_available() else torch.device(\"cpu\")\n",
    "\n",
    "# Define a transform\n",
    "transform = transforms.Compose(\n",
    "    [\n",
    "        transforms.Resize((28, 28)),\n",
    "        transforms.Grayscale(),\n",
    "        transforms.ToTensor(),\n",
    "        transforms.Normalize((0,), (1,)),\n",
    "    ]\n",
    ")\n",
    "\n",
    "mnist_train = datasets.MNIST(data_path, train=True, download=True, transform=transform)\n",
    "mnist_test = datasets.MNIST(data_path, train=False, download=True, transform=transform)\n",
    "\n",
    "# Create DataLoaders\n",
    "train_loader = DataLoader(\n",
    "    mnist_train, batch_size=batch_size, shuffle=True, drop_last=True\n",
    ")\n",
    "test_loader = DataLoader(\n",
    "    mnist_test, batch_size=batch_size, shuffle=True, drop_last=True\n",
    ")\n"
   ],
   "outputs": []
  },
  {
   "cell_type": "code",
   "execution_count": null,
   "metadata": {
    "id": "9pj-ZzMQU9_Q"
   },
   "source": [
    "from sconce import sconce\n",
    "sconces = sconce()\n",
    "# Set you Dataloader\n",
    "dataloader = {}\n",
    "dataloader[\"train\"] = train_loader\n",
    "dataloader[\"test\"] = test_loader\n",
    "sconces.dataloader = dataloader"
   ],
   "outputs": []
  },
  {
   "cell_type": "code",
   "execution_count": null,
   "metadata": {
    "id": "LzEHUCSx0hN6"
   },
   "source": [
    "#Enable snn in sconce\n",
    "sconces.snn = True\n",
    "\n",
    "# Load your snn Model\n",
    "spike_grad = surrogate.fast_sigmoid(slope=25)\n",
    "beta = 0.5\n",
    "snn_model = nn.Sequential(\n",
    "    nn.Conv2d(1, 12, 5),\n",
    "    nn.MaxPool2d(2),\n",
    "    snn.Leaky(beta=beta, spike_grad=spike_grad, init_hidden=True),\n",
    "    nn.Conv2d(12, 64, 5),\n",
    "    nn.MaxPool2d(2),\n",
    "    snn.Leaky(beta=beta, spike_grad=spike_grad, init_hidden=True),\n",
    "    nn.Flatten(),\n",
    "    nn.Linear(64 * 4 * 4, 10),\n",
    "    snn.Leaky(beta=beta, spike_grad=spike_grad, init_hidden=True, output=True),\n",
    ").to('cuda')\n",
    "\n",
    "\n",
    "#Load the pretrained weights\n",
    "snn_pretrained_model_path = \"drive/MyDrive/Efficientml/Efficientml.ai/snn_model.pth\"\n",
    "snn_model.load_state_dict(torch.load(snn_pretrained_model_path))  # Model Definition\n",
    "sconces.model = snn_model"
   ],
   "outputs": []
  },
  {
   "cell_type": "code",
   "execution_count": null,
   "metadata": {
    "id": "qZLTwjV0VdJc"
   },
   "source": [
    "\n",
    "sconces.optimizer = optim.Adam(sconces.model.parameters(), lr=1e-4)\n",
    "sconces.scheduler = optim.lr_scheduler.CosineAnnealingLR(sconces.optimizer, T_max=200)\n",
    "\n",
    "sconces.criterion = SF.ce_rate_loss()\n",
    "\n",
    "sconces.epochs = 10  # Number of time we iterate over the data\n",
    "sconces.device = torch.device(\"cuda\" if torch.cuda.is_available() else \"cpu\")\n",
    "sconces.experiment_name = \"snn-gmp\"  # Define your experiment name here\n",
    "sconces.prune_mode = \"GMP\"\n",
    "sconces.num_finetune_epochs = 1\n"
   ],
   "outputs": []
  },
  {
   "cell_type": "code",
   "execution_count": null,
   "metadata": {
    "colab": {
     "base_uri": "https://localhost:8080/"
    },
    "id": "K6kWCtSk0kVq",
    "outputId": "5db1de8c-303d-416c-ee23-4463bc3d7f80"
   },
   "source": [
    "sconces.compress()"
   ],
   "outputs": []
  }
 ],
 "metadata": {
  "accelerator": "GPU",
  "colab": {
   "machine_shape": "hm",
   "provenance": []
  },
  "kernelspec": {
   "display_name": "Python 3 (ipykernel)",
   "language": "python",
   "name": "python3"
  },
  "language_info": {
   "codemirror_mode": {
    "name": "ipython",
    "version": 3
   },
   "file_extension": ".py",
   "mimetype": "text/x-python",
   "name": "python",
   "nbconvert_exporter": "python",
   "pygments_lexer": "ipython3",
   "version": "3.11.3"
  }
 },
 "nbformat": 4,
 "nbformat_minor": 1
}
